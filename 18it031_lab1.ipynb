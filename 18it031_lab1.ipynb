{
  "nbformat": 4,
  "nbformat_minor": 0,
  "metadata": {
    "colab": {
      "name": "18it031-lab1.ipynb",
      "provenance": [],
      "authorship_tag": "ABX9TyNa6NX5JaW7e7W/8Eb99jNm",
      "include_colab_link": true
    },
    "kernelspec": {
      "name": "python3",
      "display_name": "Python 3"
    }
  },
  "cells": [
    {
      "cell_type": "markdown",
      "metadata": {
        "id": "view-in-github",
        "colab_type": "text"
      },
      "source": [
        "<a href=\"https://colab.research.google.com/github/deepaksingh-afk/dmdwlab1/blob/main/18it031_lab1.ipynb\" target=\"_parent\"><img src=\"https://colab.research.google.com/assets/colab-badge.svg\" alt=\"Open In Colab\"/></a>"
      ]
    },
    {
      "cell_type": "code",
      "metadata": {
        "colab": {
          "base_uri": "https://localhost:8080/"
        },
        "id": "ZZoQvyABfEJu",
        "outputId": "fc2d4437-4f2a-41db-f8a6-4a8fcd808e2e"
      },
      "source": [
        "#python program for mean, median, and mode.\r\n",
        "\r\n",
        "from collections import Counter\r\n",
        "data=[float(i) for i in input().split()]\r\n",
        "n=len(data)\r\n",
        "mean=sum(data)/n\r\n",
        "print(\"Mean = \",mean)\r\n",
        "#calculation of median\r\n",
        "temp=data.copy()\r\n",
        "temp=sorted(temp)\r\n",
        "if n%2!=0:\r\n",
        "  print(\"Median = \",temp[n//2])\r\n",
        "else:\r\n",
        "  median=(temp[n//2]+temp[n//2+1])/2  \r\n",
        "  print(\"Median = \",median)\r\n",
        "#calculation of mode\r\n",
        "  cnt=Counter(data)\r\n",
        "  maxi=max(cnt.items(),key= lambda x:x[1])[1]\r\n",
        "  print(maxi)\r\n",
        "  mode=[]\r\n",
        "  for each in cnt.items():\r\n",
        "    if each[1]==maxi:\r\n",
        "      mode.append(each[0])\r\n",
        "      print(\"each[0] = \",each[0])\r\n",
        "    if len(mode)==n:\r\n",
        "      print(\"Not found\")\r\n",
        "    else:\r\n",
        "      print(\"Mode = \",mode)"
      ],
      "execution_count": 1,
      "outputs": [
        {
          "output_type": "stream",
          "text": [
            "23 34 45\n",
            "Mean =  34.0\n",
            "Median =  34.0\n"
          ],
          "name": "stdout"
        }
      ]
    },
    {
      "cell_type": "code",
      "metadata": {
        "colab": {
          "base_uri": "https://localhost:8080/"
        },
        "id": "7uEuRBcPfQN_",
        "outputId": "3dfda49d-d9ed-45c5-9507-38d378fd0f47"
      },
      "source": [
        "# python program for standard deviation and variance.\r\n",
        "data=[float(i) for i in input().split()]\r\n",
        "n=len(data)\r\n",
        "mean=sum(data)/n\r\n",
        "sum1=0\r\n",
        "for e in data:\r\n",
        "  sum1+=(e-mean)**2\r\n",
        "variance=sum1/n\r\n",
        "print('Variance = ',variance)\r\n",
        "\r\n",
        "std=variance**(0.5)\r\n",
        "print(\"Standard Deviation = \",std)"
      ],
      "execution_count": 2,
      "outputs": [
        {
          "output_type": "stream",
          "text": [
            "34 45\n",
            "Variance =  30.25\n",
            "Standard Deviation =  5.5\n"
          ],
          "name": "stdout"
        }
      ]
    },
    {
      "cell_type": "code",
      "metadata": {
        "colab": {
          "base_uri": "https://localhost:8080/"
        },
        "id": "gJnaHTdOfpST",
        "outputId": "6cbdb557-0915-4578-967e-d82bb18c9604"
      },
      "source": [
        "#python programs.\r\n",
        "# 1.python program to check even or odd.\r\n",
        "num = int(input(\"Enter a number: \"))\r\n",
        "if (num % 2) == 0:\r\n",
        "   print(\"{0} is Even\".format(num))\r\n",
        "else:\r\n",
        "   print(\"{0} is Odd\".format(num))"
      ],
      "execution_count": 3,
      "outputs": [
        {
          "output_type": "stream",
          "text": [
            "Enter a number: 5\n",
            "5 is Odd\n"
          ],
          "name": "stdout"
        }
      ]
    },
    {
      "cell_type": "code",
      "metadata": {
        "colab": {
          "base_uri": "https://localhost:8080/"
        },
        "id": "Pl8HvEGBf0tG",
        "outputId": "9c9d6daf-fb9a-4cb6-f0eb-c1a876700d55"
      },
      "source": [
        "# 2. Greatest among three numbers.\r\n",
        "num1 = int(input(\"Enter ist number: \"))\r\n",
        "num2 = int(input(\"Enter 2nd number: \"))\r\n",
        "num3 = int(input(\"Enter 3rd number: \"))\r\n",
        "\r\n",
        "if (num1 >= num2) and (num1 >= num3):\r\n",
        "   largest = num1\r\n",
        "elif (num2 >= num1) and (num2 >= num3):\r\n",
        "   largest = num2\r\n",
        "else:\r\n",
        "   largest = num3\r\n",
        "\r\n",
        "print(\"The largest number is\", largest)"
      ],
      "execution_count": 4,
      "outputs": [
        {
          "output_type": "stream",
          "text": [
            "Enter ist number: 67\n",
            "Enter 2nd number: 78\n",
            "Enter 3rd number: 89\n",
            "The largest number is 89\n"
          ],
          "name": "stdout"
        }
      ]
    },
    {
      "cell_type": "code",
      "metadata": {
        "id": "Bd6hsM8-f_MR"
      },
      "source": [
        ""
      ],
      "execution_count": null,
      "outputs": []
    }
  ]
}